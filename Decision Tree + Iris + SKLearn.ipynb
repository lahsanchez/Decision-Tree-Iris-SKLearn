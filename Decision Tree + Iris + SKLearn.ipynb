{
  "nbformat": 4,
  "nbformat_minor": 0,
  "metadata": {
    "colab": {
      "name": "Atividade_1_2B.ipynb",
      "provenance": []
    },
    "kernelspec": {
      "name": "python3",
      "display_name": "Python 3"
    },
    "language_info": {
      "name": "python"
    }
  },
  "cells": [
    {
      "cell_type": "markdown",
      "metadata": {
        "id": "zb25IcHxEVle"
      },
      "source": [
        "**Atividade 1**\n",
        "\n",
        "**Laura Helena dos Santos Sanchez.**"
      ]
    },
    {
      "cell_type": "code",
      "metadata": {
        "id": "oTsyunnhG7NL"
      },
      "source": [
        "import math\n",
        "import pandas as pd"
      ],
      "execution_count": 10,
      "outputs": []
    },
    {
      "cell_type": "code",
      "metadata": {
        "colab": {
          "base_uri": "https://localhost:8080/"
        },
        "id": "2L78q7BHFIEm",
        "outputId": "24d6931e-dd25-48f4-fffa-8d5ddb255548"
      },
      "source": [
        "from google.colab import drive\n",
        "drive.mount('/content/drive')"
      ],
      "execution_count": 1,
      "outputs": [
        {
          "output_type": "stream",
          "name": "stdout",
          "text": [
            "Drive already mounted at /content/drive; to attempt to forcibly remount, call drive.mount(\"/content/drive\", force_remount=True).\n"
          ]
        }
      ]
    },
    {
      "cell_type": "code",
      "metadata": {
        "id": "kphFwd9qFYF7"
      },
      "source": [
        "def entropia(probabilidades):\n",
        "    return sum(-p * math.log(p, 2) for p in probabilidades if p)"
      ],
      "execution_count": 2,
      "outputs": []
    },
    {
      "cell_type": "code",
      "metadata": {
        "colab": {
          "base_uri": "https://localhost:8080/"
        },
        "id": "NdMHZGDsFp4H",
        "outputId": "303f998b-7582-4360-9854-ca5df989cdbc"
      },
      "source": [
        "p1 = 50.0/150.0\n",
        "p2 = 50.0/150.0\n",
        "p3 = 50.0/150.0\n",
        "print(entropia([p1, p2, p3]))"
      ],
      "execution_count": 9,
      "outputs": [
        {
          "output_type": "stream",
          "name": "stdout",
          "text": [
            "1.584962500721156\n"
          ]
        }
      ]
    },
    {
      "cell_type": "code",
      "metadata": {
        "id": "25OUeegjGy5X"
      },
      "source": [
        "atributos = ['SepalLength', 'SepalWidth', 'PetalLength', 'PetalWidth', 'Class']\n",
        "df = pd.read_csv('/content/drive/MyDrive/dataset/iris.data.txt', names=atributos)\n",
        "\n",
        "# Definimos uma matriz \"X\" com as caracteristicas que representam uma flor Iris.\n",
        "X = df[df.columns.difference(['Class'])].values\n",
        "\n",
        "# E um vetor \"y\" com das classes de cada uma das flores.\n",
        "y = df['Class'].values"
      ],
      "execution_count": 11,
      "outputs": []
    },
    {
      "cell_type": "code",
      "metadata": {
        "id": "9o0VIN9NHnMh"
      },
      "source": [
        "from sklearn.tree import DecisionTreeClassifier"
      ],
      "execution_count": 12,
      "outputs": []
    },
    {
      "cell_type": "code",
      "metadata": {
        "colab": {
          "base_uri": "https://localhost:8080/"
        },
        "id": "IWmqCuvWHupU",
        "outputId": "d273ea08-6438-4816-fce6-67b80e557ecd"
      },
      "source": [
        "iris_classificador = DecisionTreeClassifier(random_state=1234, criterion='entropy', max_depth=3)\n",
        "\n",
        "# A função fit é usada para treinar o modelo, com base nas entradas X\n",
        "# ('SepalLength', 'SepalWidth', 'PetalLength', 'PetalWidth') deve\n",
        "# aprender a classificar y ('Class').\n",
        "iris_classificador.fit(X, y)"
      ],
      "execution_count": 13,
      "outputs": [
        {
          "output_type": "execute_result",
          "data": {
            "text/plain": [
              "DecisionTreeClassifier(ccp_alpha=0.0, class_weight=None, criterion='entropy',\n",
              "                       max_depth=3, max_features=None, max_leaf_nodes=None,\n",
              "                       min_impurity_decrease=0.0, min_impurity_split=None,\n",
              "                       min_samples_leaf=1, min_samples_split=2,\n",
              "                       min_weight_fraction_leaf=0.0, presort='deprecated',\n",
              "                       random_state=1234, splitter='best')"
            ]
          },
          "metadata": {},
          "execution_count": 13
        }
      ]
    },
    {
      "cell_type": "code",
      "metadata": {
        "colab": {
          "base_uri": "https://localhost:8080/"
        },
        "id": "iGKTWYWBH0Fz",
        "outputId": "9ce7629c-ae86-4185-fc29-a4f3c3056531"
      },
      "source": [
        "novos_exemplos = [[1.6, 0.5, 5.0, 3.6], [4.2, 1.2, 5.8, 2.7], [5.2, 2.4, 7.0, 3.2]]\n",
        "\n",
        "# Função predict classificar novos exemplos de amostras.\n",
        "print(iris_classificador.predict(novos_exemplos))"
      ],
      "execution_count": 14,
      "outputs": [
        {
          "output_type": "stream",
          "name": "stdout",
          "text": [
            "['Iris-setosa' 'Iris-versicolor' 'Iris-virginica']\n"
          ]
        }
      ]
    },
    {
      "cell_type": "markdown",
      "metadata": {
        "id": "9OZxA5lwIJ2K"
      },
      "source": [
        "**Avaliando a Decision Tree com validação cruzada**"
      ]
    },
    {
      "cell_type": "code",
      "metadata": {
        "colab": {
          "base_uri": "https://localhost:8080/"
        },
        "id": "k7cbdCsBH6Ic",
        "outputId": "c377c802-329f-4f74-fd89-4077df1aa909"
      },
      "source": [
        "from sklearn.model_selection import cross_val_score\n",
        "avaliacao = cross_val_score(iris_classificador, X, y, scoring='accuracy', cv=5)\n",
        "print(avaliacao.mean())"
      ],
      "execution_count": 15,
      "outputs": [
        {
          "output_type": "stream",
          "name": "stdout",
          "text": [
            "0.96\n"
          ]
        }
      ]
    }
  ]
}